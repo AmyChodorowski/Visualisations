{
 "cells": [
  {
   "cell_type": "code",
   "execution_count": 1,
   "metadata": {},
   "outputs": [],
   "source": [
    "# https://www.youtube.com/watch?v=G_UYXzGuqvM\n",
    "from Sudoku import Sudoku"
   ]
  },
  {
   "cell_type": "code",
   "execution_count": null,
   "metadata": {},
   "outputs": [
    {
     "name": "stdout",
     "output_type": "stream",
     "text": [
      "\n",
      "-------------------------\n",
      "| 5 3 2 | 6 7 8 | 9 1 4 |\n",
      "| 6 7 4 | 1 9 5 | 3 2 8 |\n",
      "| 1 9 8 | 3 4 2 | 5 6 7 |\n",
      "-------------------------\n",
      "| 8 1 5 | 9 6 7 | 0 0 3 |\n",
      "| 4 0 0 | 8 0 3 | 0 0 1 |\n",
      "| 7 0 0 | 0 2 0 | 0 0 6 |\n",
      "-------------------------\n",
      "| 0 6 0 | 0 0 0 | 2 8 0 |\n",
      "| 0 0 0 | 4 1 9 | 0 0 5 |\n",
      "| 0 0 0 | 0 8 0 | 0 7 9 |\n",
      "-------------------------\n",
      "\n"
     ]
    }
   ],
   "source": [
    "s = Sudoku()\n",
    "s.initialise_game_1()\n",
    "s.print_grid_pretty()\n",
    "s.print_ready()\n",
    "s.solve_with_print()\n",
    "print('The end')"
   ]
  },
  {
   "cell_type": "code",
   "execution_count": null,
   "metadata": {},
   "outputs": [],
   "source": []
  }
 ],
 "metadata": {
  "kernelspec": {
   "display_name": "Python 3",
   "language": "python",
   "name": "python3"
  },
  "language_info": {
   "codemirror_mode": {
    "name": "ipython",
    "version": 3
   },
   "file_extension": ".py",
   "mimetype": "text/x-python",
   "name": "python",
   "nbconvert_exporter": "python",
   "pygments_lexer": "ipython3",
   "version": "3.7.7"
  }
 },
 "nbformat": 4,
 "nbformat_minor": 4
}
