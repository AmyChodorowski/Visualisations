{
 "cells": [
  {
   "cell_type": "code",
   "execution_count": 1,
   "metadata": {},
   "outputs": [],
   "source": [
    "# https://www.youtube.com/watch?v=G_UYXzGuqvM\n",
    "from Sudoku import Sudoku"
   ]
  },
  {
   "cell_type": "code",
   "execution_count": null,
   "metadata": {},
   "outputs": [
    {
     "name": "stdout",
     "output_type": "stream",
     "text": [
      "\n",
      "-------------------------\n",
      "| 5 3 4 | 6 7 8 | 9 1 2 |\n",
      "| 6 7 2 | 1 9 5 | 3 4 8 |\n",
      "| 1 9 8 | 3 4 2 | 5 6 7 |\n",
      "-------------------------\n",
      "| 8 5 9 | 7 6 1 | 4 2 3 |\n",
      "| 4 2 6 | 8 5 3 | 7 9 1 |\n",
      "| 7 1 3 | 9 2 4 | 8 5 6 |\n",
      "-------------------------\n",
      "| 9 6 1 | 5 3 7 | 2 8 4 |\n",
      "| 2 8 7 | 4 1 9 | 6 3 5 |\n",
      "| 3 4 5 | 2 8 6 | 1 7 9 |\n",
      "-------------------------\n",
      "\n"
     ]
    }
   ],
   "source": [
    "s = Sudoku()\n",
    "s.initialise_game_1()\n",
    "s.print_grid_pretty()\n",
    "s.print_ready()\n",
    "s.solve_with_print()\n",
    "print('The end')"
   ]
  },
  {
   "cell_type": "code",
   "execution_count": null,
   "metadata": {},
   "outputs": [],
   "source": []
  }
 ],
 "metadata": {
  "kernelspec": {
   "display_name": "Python 3",
   "language": "python",
   "name": "python3"
  },
  "language_info": {
   "codemirror_mode": {
    "name": "ipython",
    "version": 3
   },
   "file_extension": ".py",
   "mimetype": "text/x-python",
   "name": "python",
   "nbconvert_exporter": "python",
   "pygments_lexer": "ipython3",
   "version": "3.7.7"
  }
 },
 "nbformat": 4,
 "nbformat_minor": 4
}
