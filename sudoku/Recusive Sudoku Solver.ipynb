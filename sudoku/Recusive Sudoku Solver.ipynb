{
 "cells": [
  {
   "cell_type": "code",
   "execution_count": 1,
   "metadata": {},
   "outputs": [],
   "source": [
    "# https://www.youtube.com/watch?v=G_UYXzGuqvM\n",
    "from Sudoku import Sudoku"
   ]
  },
  {
   "cell_type": "code",
   "execution_count": null,
   "metadata": {},
   "outputs": [
    {
     "name": "stdout",
     "output_type": "stream",
     "text": [
      "\n",
      "-------------------------\n",
      "| 5 1 2 | 6 8 7 | 4 3 9 |\n",
      "| 3 7 8 | 4 5 9 | 2 1 6 |\n",
      "| 6 4 9 | 1 2 3 | 7 8 5 |\n",
      "-------------------------\n",
      "| 2 3 7 | 9 4 8 | 6 5 1 |\n",
      "| 4 5 1 | 3 6 2 | 8 9 7 |\n",
      "| 9 8 6 | 5 7 1 | 3 2 4 |\n",
      "-------------------------\n",
      "| 8 6 5 | 2 1 4 | 9 7 3 |\n",
      "| 7 9 4 | 8 3 5 | 1 6 2 |\n",
      "| 1 2 3 | 7 9 6 | 5 4 8 |\n",
      "-------------------------\n",
      "\n"
     ]
    }
   ],
   "source": [
    "s = Sudoku()\n",
    "s.initialise_game_2()\n",
    "s.print_grid_pretty()\n",
    "s.solve_count()\n",
    "print('The end')\n",
    "print('')\n",
    "print('There are {n} soultions'.format(n=s.solutions))"
   ]
  },
  {
   "cell_type": "code",
   "execution_count": null,
   "metadata": {},
   "outputs": [],
   "source": [
    "s = Sudoku()\n",
    "s.initialise_game_1()\n",
    "s.print_grid_pretty()\n",
    "s.print_ready()\n",
    "s.solve()\n",
    "print('The end')"
   ]
  },
  {
   "cell_type": "code",
   "execution_count": null,
   "metadata": {},
   "outputs": [],
   "source": []
  },
  {
   "cell_type": "code",
   "execution_count": null,
   "metadata": {},
   "outputs": [],
   "source": [
    "\n"
   ]
  }
 ],
 "metadata": {
  "kernelspec": {
   "display_name": "Python 3",
   "language": "python",
   "name": "python3"
  },
  "language_info": {
   "codemirror_mode": {
    "name": "ipython",
    "version": 3
   },
   "file_extension": ".py",
   "mimetype": "text/x-python",
   "name": "python",
   "nbconvert_exporter": "python",
   "pygments_lexer": "ipython3",
   "version": "3.7.7"
  }
 },
 "nbformat": 4,
 "nbformat_minor": 4
}
